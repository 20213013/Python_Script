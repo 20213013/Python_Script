{
 "cells": [
  {
   "cell_type": "markdown",
   "metadata": {},
   "source": [
    "# BostonHousing MLP 모델 구현\n",
    "## 기계학습(02)\n",
    "#### 20213013 컴퓨터공학과 김어진"
   ]
  },
  {
   "cell_type": "markdown",
   "metadata": {},
   "source": [
    "## 데이터 로드 및 정규화"
   ]
  },
  {
   "cell_type": "code",
   "execution_count": 14,
   "metadata": {},
   "outputs": [],
   "source": [
    "import pandas as pd\n",
    "import numpy as np\n",
    "import matplotlib.pyplot as plt\n",
    "from sklearn.model_selection import train_test_split\n",
    "from sklearn.preprocessing import StandardScaler\n",
    "\n",
    "# CSV 파일 로드 \n",
    "df_data = pd.read_csv('C:\\\\Users\\\\chosun\\\\Downloads\\\\BostonHousing.csv') \n"
   ]
  },
  {
   "cell_type": "code",
   "execution_count": 15,
   "metadata": {},
   "outputs": [],
   "source": [
    "# 데이터 로드 및 전처리\n",
    "def load_and_preprocess_data(file_path):\n",
    "    df_data = pd.read_csv(file_path)\n",
    "\n",
    "    # 특성 선택 (RM, LSTAT, DIS 포함)\n",
    "    X = df_data[['RM', 'LSTAT', 'DIS']].values\n",
    "    y = df_data['MEDV'].values\n",
    "\n",
    "    # 데이터 분할 (80% 학습, 20% 검증)\n",
    "    X_train, X_val, y_train, y_val = train_test_split(X, y, test_size=0.2, random_state=42)\n",
    "\n",
    "    # z-score 정규화\n",
    "    scaler = StandardScaler()\n",
    "    X_train = scaler.fit_transform(X_train)\n",
    "    X_val = scaler.transform(X_val)\n",
    "\n",
    "    return X_train, X_val, y_train, y_val"
   ]
  },
  {
   "cell_type": "markdown",
   "metadata": {},
   "source": [
    "## 활성화 함수"
   ]
  },
  {
   "cell_type": "code",
   "execution_count": 16,
   "metadata": {},
   "outputs": [],
   "source": [
    "# 손실 함수 (MSE + L2 Regularization)\n",
    "def compute_loss(output, y_true, model, lambda_reg=0.01):\n",
    "    mse_loss = np.mean((output - y_true) ** 2)\n",
    "    l2_loss = lambda_reg * (np.sum(np.square(model.weights1)) + np.sum(np.square(model.weights2)))\n",
    "    return mse_loss + l2_loss"
   ]
  },
  {
   "cell_type": "markdown",
   "metadata": {},
   "source": [
    "## 은닉층 추가"
   ]
  },
  {
   "cell_type": "code",
   "execution_count": 18,
   "metadata": {},
   "outputs": [],
   "source": [
    "# MLP 모델 정의\n",
    "class MLP:\n",
    "    def __init__(self, input_size, hidden_units, dropout_rate=0.5):\n",
    "        self.input_size = input_size\n",
    "        self.hidden_units = hidden_units\n",
    "        self.dropout_rate = dropout_rate\n",
    "\n",
    "        # 가중치 초기화\n",
    "        self.weights1 = np.random.randn(input_size, hidden_units) * 0.01\n",
    "        self.bias1 = np.zeros((1, hidden_units))\n",
    "        self.weights2 = np.random.randn(hidden_units, 1) * 0.01\n",
    "        self.bias2 = np.zeros((1, 1))\n",
    "\n",
    "    # 순전파 (forward pass)\n",
    "    def forward(self, X):\n",
    "        self.Z1 = np.dot(X, self.weights1) + self.bias1\n",
    "        self.A1 = np.maximum(0, self.Z1)  # ReLU 활성화 함수\n",
    "        self.A1 = self.dropout(self.A1)   # 드롭아웃 적용\n",
    "        self.Z2 = np.dot(self.A1, self.weights2) + self.bias2\n",
    "        self.output = self.Z2  # 출력층 활성화 없음 (회귀 문제)\n",
    "\n",
    "        return self.output\n",
    "\n",
    "    # 드롭아웃 적용\n",
    "    def dropout(self, A):\n",
    "        mask = np.random.binomial(1, 1 - self.dropout_rate, size=A.shape)\n",
    "        return A * mask\n",
    "\n",
    "    # 역전파 (backward pass)\n",
    "    def backward(self, X, y):\n",
    "        m = X.shape[0]\n",
    "        dZ2 = self.output - y\n",
    "        dW2 = np.dot(self.A1.T, dZ2) / m\n",
    "        db2 = np.sum(dZ2, axis=0, keepdims=True) / m\n",
    "        dA1 = np.dot(dZ2, self.weights2.T)\n",
    "        dZ1 = dA1 * (self.Z1 > 0)  # ReLU 미분\n",
    "\n",
    "        dW1 = np.dot(X.T, dZ1) / m\n",
    "        db1 = np.sum(dZ1, axis=0, keepdims=True) / m\n",
    "\n",
    "        # L2 Regularization 추가\n",
    "        lambda_reg = 0.01\n",
    "        dW1 += 2 * lambda_reg * self.weights1\n",
    "        dW2 += 2 * lambda_reg * self.weights2\n",
    "\n",
    "        gradients = {\n",
    "            'dW1': dW1,\n",
    "            'db1': db1,\n",
    "            'dW2': dW2,\n",
    "            'db2': db2\n",
    "        }\n",
    "        return gradients\n",
    "\n",
    "    # 가중치 업데이트\n",
    "    def update_weights(self, gradients, learning_rate):\n",
    "        self.weights1 -= learning_rate * gradients['dW1']\n",
    "        self.bias1 -= learning_rate * gradients['db1']\n",
    "        self.weights2 -= learning_rate * gradients['dW2']\n",
    "        self.bias2 -= learning_rate * gradients['db2']"
   ]
  },
  {
   "cell_type": "markdown",
   "metadata": {},
   "source": [
    "## 데이터 훈련"
   ]
  },
  {
   "cell_type": "code",
   "execution_count": 19,
   "metadata": {},
   "outputs": [],
   "source": [
    "# 학습 함수\n",
    "def train_model(model, X_train, y_train, epochs, batch_size, learning_rate):\n",
    "    loss_history = []\n",
    "    for epoch in range(epochs):\n",
    "        for i in range(0, len(X_train), batch_size):\n",
    "            X_batch = X_train[i:i + batch_size]\n",
    "            y_batch = y_train[i:i + batch_size]\n",
    "\n",
    "            # 순전파\n",
    "            output = model.forward(X_batch)\n",
    "\n",
    "            # 손실 계산\n",
    "            loss = compute_loss(output, y_batch, model)\n",
    "\n",
    "            # 역전파\n",
    "            gradients = model.backward(X_batch, y_batch)\n",
    "\n",
    "            # 가중치 업데이트\n",
    "            model.update_weights(gradients, learning_rate)\n",
    "\n",
    "        loss_history.append(loss)\n",
    "        if (epoch + 1) % 100 == 0:\n",
    "            print(f\"Epoch {epoch + 1}/{epochs}, Loss: {loss:.4f}\")\n",
    "\n",
    "    return loss_history"
   ]
  },
  {
   "cell_type": "markdown",
   "metadata": {},
   "source": [
    "## 모델 평가"
   ]
  },
  {
   "cell_type": "code",
   "execution_count": 20,
   "metadata": {},
   "outputs": [],
   "source": [
    "# 평가 함수\n",
    "def evaluate_model(model, X_val, y_val):\n",
    "    val_output = model.forward(X_val)\n",
    "    val_loss = compute_loss(val_output, y_val, model)\n",
    "    print(f\"최종 검증 손실 (MSE): {val_loss:.4f}\")\n",
    "    return val_loss"
   ]
  },
  {
   "cell_type": "code",
   "execution_count": 22,
   "metadata": {},
   "outputs": [
    {
     "ename": "ValueError",
     "evalue": "shapes (16,16) and (1,64) not aligned: 16 (dim 1) != 1 (dim 0)",
     "output_type": "error",
     "traceback": [
      "\u001b[1;31m---------------------------------------------------------------------------\u001b[0m",
      "\u001b[1;31mValueError\u001b[0m                                Traceback (most recent call last)",
      "Cell \u001b[1;32mIn[22], line 24\u001b[0m\n\u001b[0;32m     22\u001b[0m \u001b[38;5;66;03m# 모델 초기화 및 학습\u001b[39;00m\n\u001b[0;32m     23\u001b[0m model \u001b[38;5;241m=\u001b[39m MLP(input_size, hidden_units, dropout_rate\u001b[38;5;241m=\u001b[39m\u001b[38;5;241m0.5\u001b[39m)\n\u001b[1;32m---> 24\u001b[0m loss_history \u001b[38;5;241m=\u001b[39m \u001b[43mtrain_model\u001b[49m\u001b[43m(\u001b[49m\u001b[43mmodel\u001b[49m\u001b[43m,\u001b[49m\u001b[43m \u001b[49m\u001b[43mX_train\u001b[49m\u001b[43m,\u001b[49m\u001b[43m \u001b[49m\u001b[43my_train\u001b[49m\u001b[43m,\u001b[49m\u001b[43m \u001b[49m\u001b[43mepochs\u001b[49m\u001b[43m,\u001b[49m\u001b[43m \u001b[49m\u001b[43mbatch_size\u001b[49m\u001b[43m,\u001b[49m\u001b[43m \u001b[49m\u001b[43mlearning_rate\u001b[49m\u001b[43m)\u001b[49m\n\u001b[0;32m     26\u001b[0m \u001b[38;5;66;03m# 평가 및 그래프 출력\u001b[39;00m\n\u001b[0;32m     27\u001b[0m evaluate_model(model, X_val, y_val)\n",
      "Cell \u001b[1;32mIn[19], line 16\u001b[0m, in \u001b[0;36mtrain_model\u001b[1;34m(model, X_train, y_train, epochs, batch_size, learning_rate)\u001b[0m\n\u001b[0;32m     13\u001b[0m loss \u001b[38;5;241m=\u001b[39m compute_loss(output, y_batch, model)\n\u001b[0;32m     15\u001b[0m \u001b[38;5;66;03m# 역전파\u001b[39;00m\n\u001b[1;32m---> 16\u001b[0m gradients \u001b[38;5;241m=\u001b[39m \u001b[43mmodel\u001b[49m\u001b[38;5;241;43m.\u001b[39;49m\u001b[43mbackward\u001b[49m\u001b[43m(\u001b[49m\u001b[43mX_batch\u001b[49m\u001b[43m,\u001b[49m\u001b[43m \u001b[49m\u001b[43my_batch\u001b[49m\u001b[43m)\u001b[49m\n\u001b[0;32m     18\u001b[0m \u001b[38;5;66;03m# 가중치 업데이트\u001b[39;00m\n\u001b[0;32m     19\u001b[0m model\u001b[38;5;241m.\u001b[39mupdate_weights(gradients, learning_rate)\n",
      "Cell \u001b[1;32mIn[18], line 35\u001b[0m, in \u001b[0;36mMLP.backward\u001b[1;34m(self, X, y)\u001b[0m\n\u001b[0;32m     33\u001b[0m dW2 \u001b[38;5;241m=\u001b[39m np\u001b[38;5;241m.\u001b[39mdot(\u001b[38;5;28mself\u001b[39m\u001b[38;5;241m.\u001b[39mA1\u001b[38;5;241m.\u001b[39mT, dZ2) \u001b[38;5;241m/\u001b[39m m\n\u001b[0;32m     34\u001b[0m db2 \u001b[38;5;241m=\u001b[39m np\u001b[38;5;241m.\u001b[39msum(dZ2, axis\u001b[38;5;241m=\u001b[39m\u001b[38;5;241m0\u001b[39m, keepdims\u001b[38;5;241m=\u001b[39m\u001b[38;5;28;01mTrue\u001b[39;00m) \u001b[38;5;241m/\u001b[39m m\n\u001b[1;32m---> 35\u001b[0m dA1 \u001b[38;5;241m=\u001b[39m \u001b[43mnp\u001b[49m\u001b[38;5;241;43m.\u001b[39;49m\u001b[43mdot\u001b[49m\u001b[43m(\u001b[49m\u001b[43mdZ2\u001b[49m\u001b[43m,\u001b[49m\u001b[43m \u001b[49m\u001b[38;5;28;43mself\u001b[39;49m\u001b[38;5;241;43m.\u001b[39;49m\u001b[43mweights2\u001b[49m\u001b[38;5;241;43m.\u001b[39;49m\u001b[43mT\u001b[49m\u001b[43m)\u001b[49m\n\u001b[0;32m     36\u001b[0m dZ1 \u001b[38;5;241m=\u001b[39m dA1 \u001b[38;5;241m*\u001b[39m (\u001b[38;5;28mself\u001b[39m\u001b[38;5;241m.\u001b[39mZ1 \u001b[38;5;241m>\u001b[39m \u001b[38;5;241m0\u001b[39m)  \u001b[38;5;66;03m# ReLU 미분\u001b[39;00m\n\u001b[0;32m     38\u001b[0m dW1 \u001b[38;5;241m=\u001b[39m np\u001b[38;5;241m.\u001b[39mdot(X\u001b[38;5;241m.\u001b[39mT, dZ1) \u001b[38;5;241m/\u001b[39m m\n",
      "\u001b[1;31mValueError\u001b[0m: shapes (16,16) and (1,64) not aligned: 16 (dim 1) != 1 (dim 0)"
     ]
    }
   ],
   "source": [
    "# 그래프 출력\n",
    "def plot_loss(loss_history):\n",
    "    plt.figure(figsize=(10, 6))\n",
    "    plt.plot(loss_history)\n",
    "    plt.title('Training Loss Over Time')\n",
    "    plt.xlabel('Epochs')\n",
    "    plt.ylabel('Loss (MSE)')\n",
    "    plt.grid(True)\n",
    "    plt.show()\n",
    "\n",
    "\n",
    "# 학습 및 평가 실행 코드\n",
    "file_path = 'C:\\\\Users\\\\chosun\\\\Downloads\\\\BostonHousing.csv'\n",
    "X_train, X_val, y_train, y_val = load_and_preprocess_data(file_path)\n",
    "\n",
    "input_size = X_train.shape[1]\n",
    "hidden_units = 64\n",
    "learning_rate = 0.001\n",
    "epochs = 1000\n",
    "batch_size = 16\n",
    "\n",
    "# 모델 초기화 및 학습\n",
    "model = MLP(input_size, hidden_units, dropout_rate=0.5)\n",
    "loss_history = train_model(model, X_train, y_train, epochs, batch_size, learning_rate)\n",
    "\n",
    "# 평가 및 그래프 출력\n",
    "evaluate_model(model, X_val, y_val)\n",
    "plot_loss(loss_history)"
   ]
  },
  {
   "cell_type": "markdown",
   "metadata": {},
   "source": [
    "## 결과"
   ]
  },
  {
   "cell_type": "code",
   "execution_count": 24,
   "metadata": {},
   "outputs": [
    {
     "name": "stdout",
     "output_type": "stream",
     "text": [
      "최종 검증 손실 (MSE): 535.0715\n"
     ]
    },
    {
     "data": {
      "image/png": "[encoded data removed]",
      "text/plain": [
       "<Figure size 1000x600 with 1 Axes>"
      ]
     },
     "metadata": {},
     "output_type": "display_data"
    }
   ],
   "source": [
    "# 그래프 출력\n",
    "def plot_loss(loss_history):\n",
    "    plt.figure(figsize=(10, 6))\n",
    "    plt.plot(loss_history)\n",
    "    plt.title('Training Loss Over Time')\n",
    "    plt.xlabel('Epochs')\n",
    "    plt.ylabel('Loss (MSE)')\n",
    "    plt.grid(True)\n",
    "    plt.show()\n",
    "    \n",
    "# 평가 및 그래프 출력\n",
    "evaluate_model(model, X_val, y_val)\n",
    "plot_loss(loss_history)\n"
   ]
  }
 ],
 "metadata": {
  "kernelspec": {
   "display_name": "Python 3",
   "language": "python",
   "name": "python3"
  },
  "language_info": {
   "codemirror_mode": {
    "name": "ipython",
    "version": 3
   },
   "file_extension": ".py",
   "mimetype": "text/x-python",
   "name": "python",
   "nbconvert_exporter": "python",
   "pygments_lexer": "ipython3",
   "version": "3.13.0"
  }
 },
 "nbformat": 4,
 "nbformat_minor": 2
}
