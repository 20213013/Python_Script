{
 "cells": [
  {
   "cell_type": "markdown",
   "metadata": {},
   "source": [
    "# BostonHousing MLP 모델 구현\n",
    "## 기계학습(02)\n",
    "#### 20213013 컴퓨터공학과 김어진"
   ]
  },
  {
   "cell_type": "markdown",
   "metadata": {},
   "source": [
    "## 데이터 로드 및 정규화"
   ]
  },
  {
   "cell_type": "code",
   "execution_count": 1,
   "metadata": {},
   "outputs": [],
   "source": [
    "import pandas as pd\n",
    "import numpy as np\n",
    "import matplotlib.pyplot as plt\n",
    "\n",
    "# CSV 파일 로드 \n",
    "df_data = pd.read_csv('C:\\\\Users\\\\chosun\\\\Documents\\\\기계학습 자료\\\\BostonHousing.csv')  \n"
   ]
  },
  {
   "cell_type": "code",
   "execution_count": 15,
   "metadata": {},
   "outputs": [
    {
     "name": "stdout",
     "output_type": "stream",
     "text": [
      "Training data shape: (404, 13) (404, 1)\n",
      "Validation data shape: (102, 13) (102, 1)\n"
     ]
    }
   ],
   "source": [
    "# 데이터 로드 및 정규화\n",
    "X = df_data.drop('MEDV', axis=1).values\n",
    "y = df_data['MEDV'].values.reshape(-1, 1)\n",
    "\n",
    "# 데이터 정규화 (Min-Max 스케일링)\n",
    "X_min = np.min(X, axis=0)\n",
    "X_max = np.max(X, axis=0)\n",
    "y_min = np.min(y)\n",
    "y_max = np.max(y)\n",
    "\n",
    "X = (X - X_min) / (X_max - X_min)\n",
    "y = (y - y_min) / (y_max - y_min)\n",
    "\n",
    "# 훈련/검증 분할\n",
    "train_size = int(0.8 * X.shape[0])\n",
    "X_train, X_val = X[:train_size], X[train_size:]\n",
    "y_train, y_val = y[:train_size], y[train_size:]\n",
    "\n",
    "print(\"Training data shape:\", X_train.shape, y_train.shape)\n",
    "print(\"Validation data shape:\", X_val.shape, y_val.shape)"
   ]
  },
  {
   "cell_type": "markdown",
   "metadata": {},
   "source": [
    "## 활성화 함수"
   ]
  },
  {
   "cell_type": "code",
   "execution_count": 16,
   "metadata": {},
   "outputs": [],
   "source": [
    "# Sigmoid 활성화 함수\n",
    "class Sigmoid:\n",
    "    def forward(self, x):\n",
    "        return 1 / (1 + np.exp(-x))\n",
    "    \n",
    "    def backward(self, output, error):\n",
    "        return output * (1 - output) * error"
   ]
  },
  {
   "cell_type": "code",
   "execution_count": 18,
   "metadata": {},
   "outputs": [],
   "source": [
    "# 선형 레이어\n",
    "class Linear:\n",
    "    def __init__(self, input_size, output_size):\n",
    "        self.W = np.random.randn(input_size, output_size) * 0.01\n",
    "        self.b = np.zeros((1, output_size))\n",
    "    \n",
    "    def forward(self, x):\n",
    "        self.input = x\n",
    "        return np.dot(x, self.W) + self.b\n",
    "    \n",
    "    def backward(self, output_error, learning_rate):\n",
    "        input_error = np.dot(output_error, self.W.T)\n",
    "        weights_error = np.dot(self.input.T, output_error)\n",
    "        self.W -= learning_rate * weights_error\n",
    "        self.b -= learning_rate * np.sum(output_error, axis=0, keepdims=True)\n",
    "        return input_error"
   ]
  },
  {
   "cell_type": "markdown",
   "metadata": {},
   "source": [
    "## 은닉층 추가"
   ]
  },
  {
   "cell_type": "code",
   "execution_count": 20,
   "metadata": {},
   "outputs": [],
   "source": [
    "# MLP 모델\n",
    "class MLP:\n",
    "    def __init__(self, input_size, hidden_size1, hidden_size2, hidden_size3, output_size):\n",
    "        self.layer1 = Linear(input_size, hidden_size1)\n",
    "        self.sigmoid1 = Sigmoid()\n",
    "        self.layer2 = Linear(hidden_size1, hidden_size2)\n",
    "        self.sigmoid2 = Sigmoid()\n",
    "        self.layer3 = Linear(hidden_size2, hidden_size3)\n",
    "        self.sigmoid3 = Sigmoid()\n",
    "        self.layer4 = Linear(hidden_size3, output_size)  # 활성화 함수 없음\n",
    "\n",
    "    def forward(self, x):\n",
    "        self.hidden1 = self.sigmoid1.forward(self.layer1.forward(x))\n",
    "        self.hidden2 = self.sigmoid2.forward(self.layer2.forward(self.hidden1))\n",
    "        self.hidden3 = self.sigmoid3.forward(self.layer3.forward(self.hidden2))\n",
    "        return self.layer4.forward(self.hidden3)\n",
    "\n",
    "    def backward(self, y_true, y_pred, learning_rate):\n",
    "        output_error = (y_pred - y_true) / y_true.shape[0]\n",
    "        hidden3_error = self.layer4.backward(output_error, learning_rate)\n",
    "        hidden2_error = self.layer3.backward(self.sigmoid3.backward(self.hidden3, hidden3_error), learning_rate)\n",
    "        hidden1_error = self.layer2.backward(self.sigmoid2.backward(self.hidden2, hidden2_error), learning_rate)\n"
   ]
  },
  {
   "cell_type": "code",
   "execution_count": 21,
   "metadata": {},
   "outputs": [],
   "source": [
    "# 손실 함수\n",
    "def mean_squared_error(y_true, y_pred):\n",
    "    return np.mean((y_true - y_pred) ** 2)"
   ]
  },
  {
   "cell_type": "markdown",
   "metadata": {},
   "source": [
    "## 데이터 훈련"
   ]
  },
  {
   "cell_type": "code",
   "execution_count": 22,
   "metadata": {},
   "outputs": [
    {
     "name": "stdout",
     "output_type": "stream",
     "text": [
      "Epoch 0: Loss = 0.2226\n",
      "Epoch 100: Loss = 0.1088\n",
      "Epoch 200: Loss = 0.0668\n",
      "Epoch 300: Loss = 0.0513\n",
      "Epoch 400: Loss = 0.0456\n",
      "Epoch 500: Loss = 0.0435\n",
      "Epoch 600: Loss = 0.0427\n",
      "Epoch 700: Loss = 0.0424\n",
      "Epoch 800: Loss = 0.0423\n",
      "Epoch 900: Loss = 0.0423\n",
      "Final Loss: 0.0451\n"
     ]
    }
   ],
   "source": [
    "# 훈련\n",
    "input_size = X_train.shape[1]\n",
    "hidden_size1 = 64\n",
    "hidden_size2 = 32\n",
    "hidden_size3 = 16\n",
    "output_size = 1\n",
    "model = MLP(input_size, hidden_size1, hidden_size2, hidden_size3, output_size)\n",
    "\n",
    "learning_rate = 0.001\n",
    "epochs = 1000\n",
    "losses = []\n",
    "\n",
    "for epoch in range(epochs):\n",
    "    y_pred = model.forward(X_train)\n",
    "    loss = mean_squared_error(y_train, y_pred)\n",
    "    losses.append(loss)\n",
    "    \n",
    "    model.backward(y_train, y_pred, learning_rate)\n",
    "\n",
    "    if epoch % 100 == 0:\n",
    "        print(f'Epoch {epoch}: Loss = {loss:.4f}')\n",
    "\n",
    "# 최종 손실\n",
    "final_loss = mean_squared_error(y_val, model.forward(X_val))\n",
    "print(f'Final Loss: {final_loss:.4f}')"
   ]
  },
  {
   "cell_type": "markdown",
   "metadata": {},
   "source": [
    "## 결과"
   ]
  },
  {
   "cell_type": "code",
   "execution_count": 23,
   "metadata": {},
   "outputs": [
    {
     "data": {
      "image/png": "[encoded data removed]",
      "text/plain": [
       "<Figure size 640x480 with 1 Axes>"
      ]
     },
     "metadata": {},
     "output_type": "display_data"
    }
   ],
   "source": [
    "# 손실 그래프\n",
    "plt.plot(10.0 * np.log(np.array(losses) + 1e-5))\n",
    "plt.title('Loss over epochs')\n",
    "plt.xlabel('Epochs (x100)')\n",
    "plt.ylabel('Log Loss (scaled by 10)')\n",
    "plt.grid()\n",
    "plt.show()"
   ]
  }
 ],
 "metadata": {
  "kernelspec": {
   "display_name": "Python 3",
   "language": "python",
   "name": "python3"
  },
  "language_info": {
   "codemirror_mode": {
    "name": "ipython",
    "version": 3
   },
   "file_extension": ".py",
   "mimetype": "text/x-python",
   "name": "python",
   "nbconvert_exporter": "python",
   "pygments_lexer": "ipython3",
   "version": "3.13.0"
  }
 },
 "nbformat": 4,
 "nbformat_minor": 2
}
